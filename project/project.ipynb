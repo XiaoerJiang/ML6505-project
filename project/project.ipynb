{
 "cells": [
  {
   "cell_type": "code",
   "execution_count": 37,
   "id": "981d93f7",
   "metadata": {},
   "outputs": [],
   "source": [
    "\n",
    "import numpy as np\n",
    "import matplotlib.pyplot as plt\n",
    "from sklearn.metrics import mean_squared_error\n",
    "from mpl_toolkits.mplot3d import Axes3D\n",
    "from sklearn.metrics import mean_absolute_error\n",
    "\n",
    "\n"
   ]
  },
  {
   "cell_type": "markdown",
   "id": "277a2583",
   "metadata": {},
   "source": [
    "接收数据"
   ]
  },
  {
   "cell_type": "code",
   "execution_count": 38,
   "id": "35213c1c",
   "metadata": {},
   "outputs": [
    {
     "name": "stdout",
     "output_type": "stream",
     "text": [
      "(52, 103)\n",
      "(208, 103)\n",
      "(208, 103)\n"
     ]
    }
   ],
   "source": [
    "X_Train = np.load('data/xTrain.npy')\n",
    "Y_Train = np.load('data/xTrain.npy')\n",
    "X_Test = np.load('data/xTest.npy')\n",
    "print(X_Test.shape)\n",
    "print(X_Train.shape)\n",
    "print(Y_Train.shape)\n",
    "\n"
   ]
  },
  {
   "cell_type": "markdown",
   "id": "aafe9b05",
   "metadata": {},
   "source": [
    "用来测试"
   ]
  },
  {
   "cell_type": "code",
   "execution_count": 39,
   "id": "8f5782fc",
   "metadata": {},
   "outputs": [],
   "source": [
    "def TestMatch(target, pred):\n",
    "        # 计算 MSE 和 MAE\n",
    "    mse = mean_squared_error(target, pred)\n",
    "    mae = mean_absolute_error(target, pred)\n",
    "\n",
    "    print(\"MSE: \", mse)\n",
    "    print(\"MAE: \", mae)\n"
   ]
  },
  {
   "cell_type": "markdown",
   "id": "04422dcc",
   "metadata": {},
   "source": [
    "画图"
   ]
  },
  {
   "cell_type": "code",
   "execution_count": 31,
   "id": "0932450c",
   "metadata": {},
   "outputs": [],
   "source": [
    "def Plot(X_Trian,Y_Train):\n",
    "    fig = plt.figure()\n",
    "    ax = fig.add_subplot(111, projection='3d')\n",
    "    ax.plot_surface(X_Train[:, 0], X_Train[:, 1], Y_Train)\n",
    "    plt.show()\n",
    "    "
   ]
  },
  {
   "cell_type": "code",
   "execution_count": 40,
   "id": "e98f7187",
   "metadata": {},
   "outputs": [
    {
     "name": "stdout",
     "output_type": "stream",
     "text": [
      "MSE:  0.0\n",
      "MAE:  0.0\n"
     ]
    }
   ],
   "source": []
  },
  {
   "cell_type": "code",
   "execution_count": null,
   "id": "4ff45b6e",
   "metadata": {},
   "outputs": [],
   "source": []
  }
 ],
 "metadata": {
  "kernelspec": {
   "display_name": "Python 3 (ipykernel)",
   "language": "python",
   "name": "python3"
  },
  "language_info": {
   "codemirror_mode": {
    "name": "ipython",
    "version": 3
   },
   "file_extension": ".py",
   "mimetype": "text/x-python",
   "name": "python",
   "nbconvert_exporter": "python",
   "pygments_lexer": "ipython3",
   "version": "3.9.13"
  }
 },
 "nbformat": 4,
 "nbformat_minor": 5
}
